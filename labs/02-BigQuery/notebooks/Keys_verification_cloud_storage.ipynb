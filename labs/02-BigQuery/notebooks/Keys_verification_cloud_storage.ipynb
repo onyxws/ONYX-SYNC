{
  "nbformat": 4,
  "nbformat_minor": 0,
  "metadata": {
    "colab": {
      "provenance": []
    },
    "kernelspec": {
      "name": "python3",
      "display_name": "Python 3"
    },
    "language_info": {
      "name": "python"
    }
  },
  "cells": [
    {
      "cell_type": "markdown",
      "source": [
        "## This short code allows you to verify that your keys are working correctly\n",
        "\n",
        "- Import the JSON key file inside the Notebook\n",
        "- Replace the key_path : on VS code (./----.json), on Google Colab (/content/-----.json)\n",
        "- Insert your bucket_name (CF readme if blocked)\n",
        "- Insert your file_name (CF readme is blocked)\n",
        "- **run the cell**"
      ],
      "metadata": {
        "id": "xTticnHhHzNd"
      }
    },
    {
      "cell_type": "code",
      "source": [
        "# Import Libraries\n",
        "from google.cloud import storage\n",
        "import pandas as pd\n",
        "from io import StringIO"
      ],
      "metadata": {
        "id": "l3uDwniIIRcL"
      },
      "execution_count": 4,
      "outputs": []
    },
    {
      "cell_type": "code",
      "source": [
        "# Set the path to your service account key file\n",
        "key_path = '/content/labcloud-451519-77f39f77cf38.json' #'./big-scale-analytics-......json'\n",
        "bucket_name = 'ox-caa-bucket' #'big_scale_analytics_bucket'\n",
        "file_name = 'movies.csv' #'movies.csv'\n",
        "\n",
        "# Create a client with service account credentials\n",
        "client = storage.Client.from_service_account_json(key_path)\n",
        "\n",
        "bucket = client.get_bucket(bucket_name) # Get the bucket\n",
        "blob = bucket.blob(file_name) # Get file objects\n",
        "\n",
        "movie_csv = blob.download_as_text() # Download csv from Google Cloud and stores inside movie_csv variable\n",
        "df = pd.read_csv(StringIO(movie_csv))\n",
        "\n",
        "#---------------CHECK---------------#\n",
        "if df.shape[1] == 3 and df.shape[0] == 27278:\n",
        "  print(\"Everything works fine, please process to the next step!\")\n",
        "else: print(\"There is an error, is the path correct, bucket name and file name correct?\")"
      ],
      "metadata": {
        "colab": {
          "base_uri": "https://localhost:8080/"
        },
        "id": "-ckLh0qpHywQ",
        "outputId": "e7f1960c-dd45-48f6-d094-c6eefa0f9ded"
      },
      "execution_count": 6,
      "outputs": [
        {
          "output_type": "stream",
          "name": "stdout",
          "text": [
            "Everything works fine, please process to the next step!\n"
          ]
        }
      ]
    }
  ]
}